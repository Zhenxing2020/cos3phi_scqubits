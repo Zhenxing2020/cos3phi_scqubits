{
 "cells": [
  {
   "cell_type": "markdown",
   "id": "bfc3da9c-cb7c-481f-92b6-94c0d713edd5",
   "metadata": {
    "tags": []
   },
   "source": [
    "# $\\cos3\\phi$"
   ]
  },
  {
   "cell_type": "code",
   "execution_count": 13,
   "id": "31d86ae7-851b-4044-bda1-de9b18ab02ce",
   "metadata": {},
   "outputs": [],
   "source": [
    "import scqubits as scq\n",
    "import matplotlib.pyplot as plt\n",
    "import numpy as np\n",
    "import qutip as qt"
   ]
  },
  {
   "cell_type": "markdown",
   "metadata": {},
   "source": [
    "### Construct circuit"
   ]
  },
  {
   "cell_type": "markdown",
   "id": "12028ed0-1426-4439-9fdf-6d0c24a342f7",
   "metadata": {},
   "source": [
    "<img src=\"../image/cos3phi-2.png\" alt=\"drawing\" align=\"left\" width=\"400\"/>\n"
   ]
  },
  {
   "cell_type": "code",
   "execution_count": 23,
   "metadata": {},
   "outputs": [],
   "source": [
    "cos3phi_yaml =\"\"\"\n",
    "# zero-pi circuit\n",
    "branches:\n",
    "- [\"JJ\", 1, 2, Ej=6, Ecj=2.28] \n",
    "- [\"JJ\", 3, 4, Ej, Ecj]\n",
    "- [\"L\", 2, 3, EL=0.38]\n",
    "- [\"L\", 1, 4, EL]\n",
    "- [\"C\", 1, 3, Ec=0.20]\n",
    "- [\"C\", 2, 4, Ec]\n",
    "\n",
    "- [\"C\", 1, 5, Ec]\n",
    "- [\"L\", 2, 5, EL]\n",
    "- [\"C\", 2, 6, Ec]\n",
    "- [\"L\", 1, 6, EL]\n",
    "- [\"JJ\", 5, 6, Ej, Ecj]\n",
    "\"\"\""
   ]
  },
  {
   "cell_type": "markdown",
   "metadata": {},
   "source": [
    "### Default transform"
   ]
  },
  {
   "cell_type": "code",
   "execution_count": 24,
   "metadata": {},
   "outputs": [
    {
     "data": {
      "text/latex": [
       "$ \\left(0.2 Q_{3}^{2} + 0.680597 Q_{5}^{2} + 0.907786 Q_{2}^{2} + 3.375912 n_{1}^{2} + 3.375912 n_{g1}^{2} + 12.243978 Q_{4}^{2} + 0.340299 Q_{2} Q_{5} + 0.2 Q_{2} Q_{3} + 6.121989 Q_{2} Q_{4} + 6.751823 n_{1} n_{g1} - 3.123978 Q_{2} n_{1} - 3.123978 Q_{2} n_{g1} - 12.495912 Q_{4} n_{1} - 12.495912 Q_{4} n_{g1}\\right) + \\left(- Ej \\cos{\\left(θ_{1} \\right)} - Ej \\cos{\\left((2πΦ_{2}) + θ_{5} - 1.0 θ_{1} - 1.0 θ_{4} \\right)} - Ej \\cos{\\left(θ_{1} + θ_{4} + θ_{5} - (2πΦ_{1}) \\right)} + 1.0 EL θ_{4}^{2} + 1.0 EL θ_{5}^{2} + 4.0 EL θ_{3}^{2} + 8.0 EL θ_{2}^{2} + 1.0 EL θ_{4} θ_{5} + 2.0 EL θ_{3} θ_{4} + 2.0 EL θ_{3} θ_{5} - 4.0 EL θ_{2} θ_{4} - 4.0 EL θ_{2} θ_{5} - 8.0 EL θ_{2} θ_{3}\\right) $"
      ],
      "text/plain": [
       "<IPython.core.display.Latex object>"
      ]
     },
     "metadata": {},
     "output_type": "display_data"
    },
    {
     "name": "stdout",
     "output_type": "stream",
     "text": [
      "{'periodic': [1], 'extended': [2, 3, 4, 5], 'free': [], 'frozen': []}\n",
      "['cutoff_n_1', 'cutoff_ext_2', 'cutoff_ext_3', 'cutoff_ext_4', 'cutoff_ext_5']\n"
     ]
    },
    {
     "data": {
      "text/latex": [
       "$ φ_{1} = 1.0 θ_{3} + 1.0 θ_{4} + 1.0 θ_{5} + 1.0 θ_{6} - 1.0 θ_{2} \\\\ φ_{2} = 1.0 θ_{1} + 1.0 θ_{3} + 1.0 θ_{4} + 1.0 θ_{5} + 1.0 θ_{6} - 1.0 θ_{2} \\\\ φ_{3} = 1.0 θ_{1} + 1.0 θ_{2} + 1.0 θ_{4} + 1.0 θ_{5} + 1.0 θ_{6} - 1.0 θ_{3} \\\\ φ_{4} = 1.0 θ_{2} + 1.0 θ_{6} - 1.0 θ_{3} \\\\ φ_{5} = 1.0 θ_{1} + 1.0 θ_{2} + 1.0 θ_{3} + 1.0 θ_{4} + 1.0 θ_{6} \\\\ φ_{6} = 1.0 θ_{2} + 1.0 θ_{3} + 1.0 θ_{5} + 1.0 θ_{6} $"
      ],
      "text/plain": [
       "<IPython.core.display.Latex object>"
      ]
     },
     "metadata": {},
     "output_type": "display_data"
    },
    {
     "name": "stdout",
     "output_type": "stream",
     "text": [
      "None\n"
     ]
    },
    {
     "data": {
      "text/latex": [
       "Quantum object: dims = [[6], [6]], shape = (6, 6), type = oper, isherm = False $ \\\\ \\left(\\begin{matrix}-1.0 & 1.0 & 0.0 & 0.0 & 0.0 & 0.0\\\\0.0 & -0.500 & 0.250 & -0.250 & 0.250 & 0.250\\\\0.0 & 0.0 & -0.250 & -0.250 & 0.250 & 0.250\\\\1.0 & -1.0 & 0.500 & -0.500 & 0.500 & -0.500\\\\0.0 & 0.0 & 0.500 & -0.500 & -0.500 & 0.500\\\\0.0 & 0.500 & -0.500 & 1.0 & 0.0 & 0.0\\\\\\end{matrix}\\right)$"
      ],
      "text/plain": [
       "Quantum object: dims = [[6], [6]], shape = (6, 6), type = oper, isherm = False\n",
       "Qobj data =\n",
       "[[-1.    1.    0.    0.    0.    0.  ]\n",
       " [ 0.   -0.5   0.25 -0.25  0.25  0.25]\n",
       " [ 0.    0.   -0.25 -0.25  0.25  0.25]\n",
       " [ 1.   -1.    0.5  -0.5   0.5  -0.5 ]\n",
       " [ 0.    0.    0.5  -0.5  -0.5   0.5 ]\n",
       " [ 0.    0.5  -0.5   1.    0.    0.  ]]"
      ]
     },
     "execution_count": 24,
     "metadata": {},
     "output_type": "execute_result"
    }
   ],
   "source": [
    "cos3phi = scq.Circuit(cos3phi_yaml, from_file=False)\n",
    "cos3phi.sym_hamiltonian()\n",
    "print(cos3phi.var_categories)\n",
    "print(cos3phi.cutoff_names)\n",
    "print(cos3phi.variable_transformation())\n",
    "qt.Qobj(np.linalg.inv(cos3phi.transformation_matrix))"
   ]
  },
  {
   "cell_type": "code",
   "execution_count": 31,
   "metadata": {},
   "outputs": [
    {
     "data": {
      "text/latex": [
       "Quantum object: dims = [[6], [6]], shape = (6, 6), type = oper, isherm = False $ \\\\ \\left(\\begin{matrix}-0.500 & -0.500 & 0.500 & 0.500 & 0.0 & 0.0\\\\0.500 & 0.500 & 0.500 & 0.500 & 0.0 & 0.0\\\\-0.500 & 0.500 & -0.250 & 0.250 & 0.0 & 0.500\\\\0.500 & -0.500 & -0.250 & 0.250 & 0.0 & 0.500\\\\0.500 & -0.500 & 0.250 & -0.250 & 1.0 & 0.500\\\\-0.500 & 0.500 & 0.250 & -0.250 & -1.0 & 0.500\\\\\\end{matrix}\\right)$"
      ],
      "text/plain": [
       "Quantum object: dims = [[6], [6]], shape = (6, 6), type = oper, isherm = False\n",
       "Qobj data =\n",
       "[[-0.5  -0.5   0.5   0.5   0.    0.  ]\n",
       " [ 0.5   0.5   0.5   0.5   0.    0.  ]\n",
       " [-0.5   0.5  -0.25  0.25  0.    0.5 ]\n",
       " [ 0.5  -0.5  -0.25  0.25  0.    0.5 ]\n",
       " [ 0.5  -0.5   0.25 -0.25  1.    0.5 ]\n",
       " [-0.5   0.5   0.25 -0.25 -1.    0.5 ]]"
      ]
     },
     "execution_count": 31,
     "metadata": {},
     "output_type": "execute_result"
    }
   ],
   "source": [
    "qt.Qobj(cos3phi.transformation_matrix)"
   ]
  },
  {
   "cell_type": "code",
   "execution_count": null,
   "metadata": {},
   "outputs": [],
   "source": [
    "# tm5 = np.array([[-1.,  1.,  1., -1.,  1., -1.],\n",
    "#                 [-1.,  1., -1.,  1.,  1., -1.],\n",
    "#                 [-1.,  1.,  1., -1., -1.,  1.],\n",
    "#                 [ 1., -1.,  1., -1.,  1., -1.],\n",
    "#                 [ 1.,  1., -1., -1., -1., -1.],\n",
    "#                 [ 1.,  1.,  1.,  1.,  1.,  1.]])\n",
    "# np.linalg.inv(tm5)"
   ]
  },
  {
   "cell_type": "markdown",
   "metadata": {},
   "source": [
    "### Custom transform"
   ]
  },
  {
   "cell_type": "code",
   "execution_count": 29,
   "metadata": {},
   "outputs": [
    {
     "data": {
      "text/latex": [
       "$ \\left(0.3591 Q_{2}^{2} + 0.4 Q_{3}^{2} + 0.222222 Q_{4}^{2} + 3.231144 Q_{1}^{2} + 3.804575 Q_{5}^{2} - 0.428663 Q_{2} Q_{5} - 0.266667 Q_{3} Q_{4} - 0.214332 Q_{1} Q_{2} - 5.315425 Q_{1} Q_{5}\\right) + \\left(- Ej \\cos{\\left((2πΦ_{2}) - 1.0 θ_{5} \\right)} - Ej \\cos{\\left(θ_{1} + θ_{2} \\right)} - Ej \\cos{\\left((2πΦ_{1}) + θ_{1} - 1.0 θ_{2} \\right)} + 0.25 EL θ_{2}^{2} + 0.25 EL θ_{5}^{2} + 0.25 EL θ_{6}^{2} + 1.25 EL θ_{1}^{2} + 1.25 EL θ_{3}^{2} + 2.25 EL θ_{4}^{2} + 0.5 EL θ_{1} θ_{2} + 1.5 EL θ_{3} θ_{4} - 0.5 EL θ_{1} θ_{5} - 0.5 EL θ_{2} θ_{5} - 0.5 EL θ_{3} θ_{6} - 1.5 EL θ_{4} θ_{6}\\right) $"
      ],
      "text/plain": [
       "<IPython.core.display.Latex object>"
      ]
     },
     "metadata": {},
     "output_type": "display_data"
    },
    {
     "name": "stdout",
     "output_type": "stream",
     "text": [
      "{'periodic': [], 'extended': [1, 2, 3, 4, 5, 6], 'free': [], 'frozen': []}\n",
      "['cutoff_ext_1', 'cutoff_ext_2', 'cutoff_ext_3', 'cutoff_ext_4', 'cutoff_ext_5', 'cutoff_ext_6']\n"
     ]
    }
   ],
   "source": [
    "tm = np.array([\n",
    "       [-0.5,  0.5, -0.5,  0.5,  0.,  0. ],\n",
    "       [-0.5,  0.5,  0.5, -0.5,  0.,  0. ],\n",
    "       [ 0.5,  0.5, -0.5, -0.5,  0.,  0. ],\n",
    "       [ 0.5,  0.5,  0.5,  0.5,  0.,  0. ],\n",
    "       [ 0. ,  0. ,  0. ,  0. ,  1., -1. ],\n",
    "       [ 1. ,  1. ,  1. ,  1. ,  1.,  1. ]])\n",
    "cos3phi = scq.Circuit(cos3phi_yaml, from_file=False)\n",
    "cos3phi.configure(transformation_matrix=np.linalg.inv(tm))\n",
    "cos3phi.sym_hamiltonian()\n",
    "print(cos3phi.var_categories)\n",
    "print(cos3phi.cutoff_names)"
   ]
  },
  {
   "cell_type": "code",
   "execution_count": 30,
   "metadata": {},
   "outputs": [
    {
     "name": "stderr",
     "output_type": "stream",
     "text": [
      "UserWarning: Number of extra periodic modes found: 1\n",
      "\n",
      " C:\\Users\\Zhenxing Liu\\AppData\\Roaming\\Python\\Python310\\site-packages\\scqubits\\core\\symbolic_circuit.py: 1007"
     ]
    },
    {
     "data": {
      "text/latex": [
       "$ \\left(1.0 Q_{3}^{2} + 1.0 Q_{4}^{2} + 0.3591 Q_{2}^{2} + 3.231144 Q_{1}^{2} + 3.123978 Q_{5}^{2} + 0.251934 Q_{2} Q_{5} - 0.214332 Q_{1} Q_{2} - 5.996022 Q_{1} Q_{5} - 1.2 Q_{3} Q_{4}\\right) + \\left(- Ej \\cos{\\left(θ_{1} + θ_{2} \\right)} - Ej \\cos{\\left((2πΦ_{1}) + θ_{1} - 1.0 θ_{2} \\right)} - Ej \\cos{\\left((2πΦ_{2}) + θ_{2} - 1.0 θ_{1} - 2.0 θ_{5} \\right)} + 0.5 EL θ_{6}^{2} + 1.0 EL θ_{1}^{2} + 1.0 EL θ_{2}^{2} + 1.0 EL θ_{5}^{2} + 0.625 EL θ_{3}^{2} + 0.625 EL θ_{4}^{2} + 0.75 EL θ_{3} θ_{4} - 1.0 EL θ_{3} θ_{6} - 1.0 EL θ_{4} θ_{6} - 2.0 EL θ_{2} θ_{5}\\right) $"
      ],
      "text/plain": [
       "<IPython.core.display.Latex object>"
      ]
     },
     "metadata": {},
     "output_type": "display_data"
    },
    {
     "name": "stdout",
     "output_type": "stream",
     "text": [
      "{'periodic': [], 'extended': [1, 2, 3, 4, 5, 6], 'free': [], 'frozen': []}\n",
      "['cutoff_ext_1', 'cutoff_ext_2', 'cutoff_ext_3', 'cutoff_ext_4', 'cutoff_ext_5', 'cutoff_ext_6']\n"
     ]
    }
   ],
   "source": [
    "tm= np.array([\n",
    "       [-0.5,  0.5, -0.5,  0.5,  0.,  0. ],\n",
    "       [-0.5,  0.5,  0.5, -0.5,  0.,  0. ],\n",
    "       [ 0.5,  0.5, -0.5, -0.5, 0.5,  0.5],\n",
    "       [ 0.5,  0.5,  0.5,  0.5,-0.5, -0.5],\n",
    "       [ 0. ,  0. ,  0.5, -0.5, 0.5, -0.5],\n",
    "       [ 0. ,  0. ,  0.5,  0.5, 0.5, 0.5]])\n",
    "cos3phi = scq.Circuit(cos3phi_yaml, from_file=False)\n",
    "cos3phi.configure(transformation_matrix=np.linalg.inv(tm))\n",
    "cos3phi.sym_hamiltonian()\n",
    "print(cos3phi.var_categories)\n",
    "print(cos3phi.cutoff_names)"
   ]
  },
  {
   "cell_type": "markdown",
   "id": "d33fe5db-1702-4e5a-9147-8c8069011484",
   "metadata": {
    "tags": []
   },
   "source": [
    "# $\\cos3\\phi$ part #2"
   ]
  },
  {
   "cell_type": "markdown",
   "metadata": {},
   "source": [
    "<img src=\"../image/cos3phi-3.png\" alt=\"drawing\" align=\"left\" width=\"500\"/>\n"
   ]
  },
  {
   "cell_type": "code",
   "execution_count": 33,
   "id": "e3738c64-4ab7-45b1-ad2f-2c407b948f36",
   "metadata": {},
   "outputs": [
    {
     "data": {
      "text/latex": [
       "$ \\left(0.066667 Q_{3}^{2} + 0.236816 Q_{2}^{2} + 0.680597 Q_{4}^{2} + 2.041791 Q_{5}^{2} + 1.035194 n_{1}^{2} + 1.035194 n_{g1}^{2} + 0.066667 Q_{2} Q_{3} + 0.340299 Q_{2} Q_{4} + 1.020896 Q_{2} Q_{5} + 2.070388 n_{1} n_{g1} - 0.680597 Q_{2} n_{1} - 0.680597 Q_{2} n_{g1} - 2.722388 Q_{5} n_{1} - 2.722388 Q_{5} n_{g1}\\right) + \\left(- Ej \\cos{\\left(θ_{1} \\right)} - Ej \\cos{\\left((2πΦ_{4}) + θ_{1} + θ_{5} - 1.0 θ_{4} \\right)} - Ej \\cos{\\left(θ_{1} + θ_{4} + θ_{5} - (2πΦ_{1}) \\right)} + 0.5 EL (2πΦ_{2})^{2} + 0.5 EL (2πΦ_{3})^{2} + 1.0 EL θ_{5}^{2} + 2.0 EL θ_{4}^{2} + 8.0 EL θ_{2}^{2} + 8.0 EL θ_{3}^{2} + 1.0 (2πΦ_{2}) EL θ_{4} + 1.0 EL θ_{4} θ_{5} + 2.0 (2πΦ_{2}) EL θ_{3} + 2.0 (2πΦ_{3}) EL θ_{3} + 2.0 EL θ_{3} θ_{4} + 2.0 EL θ_{3} θ_{5} - 1.0 (2πΦ_{3}) EL θ_{4} - 4.0 EL θ_{2} θ_{4} - 4.0 EL θ_{2} θ_{5} - 8.0 EL θ_{2} θ_{3}\\right) $"
      ],
      "text/plain": [
       "<IPython.core.display.Latex object>"
      ]
     },
     "metadata": {},
     "output_type": "display_data"
    },
    {
     "name": "stdout",
     "output_type": "stream",
     "text": [
      "{'periodic': [1], 'extended': [2, 3, 4, 5], 'free': [], 'frozen': []}\n",
      "['cutoff_n_1', 'cutoff_ext_2', 'cutoff_ext_3', 'cutoff_ext_4', 'cutoff_ext_5']\n"
     ]
    },
    {
     "data": {
      "text/latex": [
       "$ φ_{1} = 1.0 θ_{3} + 1.0 θ_{4} + 1.0 θ_{5} + 1.0 θ_{6} - 1.0 θ_{2} \\\\ φ_{2} = 1.0 θ_{1} + 1.0 θ_{3} + 1.0 θ_{4} + 1.0 θ_{5} + 1.0 θ_{6} - 1.0 θ_{2} \\\\ φ_{3} = 1.0 θ_{1} + 1.0 θ_{2} + 1.0 θ_{4} + 1.0 θ_{5} + 1.0 θ_{6} - 1.0 θ_{3} \\\\ φ_{4} = 1.0 θ_{2} + 1.0 θ_{6} - 1.0 θ_{3} \\\\ φ_{5} = 1.0 θ_{2} + 1.0 θ_{3} + 1.0 θ_{4} + 1.0 θ_{6} \\\\ φ_{6} = 1.0 θ_{1} + 1.0 θ_{2} + 1.0 θ_{3} + 1.0 θ_{5} + 1.0 θ_{6} $"
      ],
      "text/plain": [
       "<IPython.core.display.Latex object>"
      ]
     },
     "metadata": {},
     "output_type": "display_data"
    },
    {
     "name": "stdout",
     "output_type": "stream",
     "text": [
      "None\n"
     ]
    },
    {
     "data": {
      "text/latex": [
       "Quantum object: dims = [[6], [6]], shape = (6, 6), type = oper, isherm = False $ \\\\ \\left(\\begin{matrix}-1.0 & 1.0 & 0.0 & 0.0 & 0.0 & 0.0\\\\0.0 & -0.500 & 0.250 & -0.250 & 0.250 & 0.250\\\\0.0 & 0.0 & -0.250 & -0.250 & 0.250 & 0.250\\\\0.0 & 0.0 & 0.500 & -0.500 & 0.500 & -0.500\\\\1.0 & -1.0 & 0.500 & -0.500 & -0.500 & 0.500\\\\0.0 & 0.500 & -0.500 & 1.0 & 0.0 & 0.0\\\\\\end{matrix}\\right)$"
      ],
      "text/plain": [
       "Quantum object: dims = [[6], [6]], shape = (6, 6), type = oper, isherm = False\n",
       "Qobj data =\n",
       "[[-1.    1.    0.    0.    0.    0.  ]\n",
       " [ 0.   -0.5   0.25 -0.25  0.25  0.25]\n",
       " [ 0.    0.   -0.25 -0.25  0.25  0.25]\n",
       " [ 0.    0.    0.5  -0.5   0.5  -0.5 ]\n",
       " [ 1.   -1.    0.5  -0.5  -0.5   0.5 ]\n",
       " [ 0.    0.5  -0.5   1.    0.    0.  ]]"
      ]
     },
     "execution_count": 33,
     "metadata": {},
     "output_type": "execute_result"
    }
   ],
   "source": [
    "cos3phi_yaml =\"\"\"\n",
    "# zero-pi circuit\n",
    "branches:\n",
    "- [\"JJ\", 1, 2, Ej=6, Ecj=2.28] \n",
    "- [\"JJ\", 3, 4, Ej, Ecj]\n",
    "- [\"L\", 2, 3, EL=0.38]\n",
    "- [\"L\", 1, 4, EL]\n",
    "- [\"C\", 1, 3, Ec=0.20]\n",
    "- [\"C\", 2, 4, Ec]\n",
    "\n",
    "- [\"C\", 3, 5, Ec]\n",
    "- [\"L\", 4, 5, EL]\n",
    "- [\"C\", 4, 6, Ec]\n",
    "- [\"L\", 3, 6, EL]\n",
    "- [\"JJ\", 5, 6, Ej, Ecj]\n",
    "\n",
    "- [\"L\", 2, 6, EL]\n",
    "- [\"L\", 1, 5, EL]\n",
    "- [\"C\", 1, 6, Ec]\n",
    "- [\"C\", 2, 5, Ec]\n",
    "\"\"\"\n",
    "\n",
    "cos3phi = scq.Circuit(cos3phi_yaml, from_file=False, ext_basis=\"discretized\")\n",
    "#zp3.configure(transformation_matrix=np.linalg.inv(tm3))\n",
    "cos3phi.sym_hamiltonian()\n",
    "print(cos3phi.var_categories)\n",
    "print(cos3phi.cutoff_names)\n",
    "print(cos3phi.variable_transformation())\n",
    "qt.Qobj(np.linalg.inv(cos3phi.transformation_matrix))"
   ]
  },
  {
   "cell_type": "code",
   "execution_count": 34,
   "metadata": {},
   "outputs": [
    {
     "data": {
      "text/latex": [
       "Quantum object: dims = [[6], [6]], shape = (6, 6), type = oper, isherm = False $ \\\\ \\left(\\begin{matrix}0.0 & -1.0 & 1.0 & 1.0 & 1.0 & 1.0\\\\1.0 & -1.0 & 1.0 & 1.0 & 1.0 & 1.0\\\\1.0 & 1.0 & -1.0 & 1.0 & 1.0 & 1.0\\\\0.0 & 1.0 & -1.0 & 0.0 & 0.0 & 1.0\\\\0.0 & 1.0 & 1.0 & 1.0 & 0.0 & 1.0\\\\1.0 & 1.0 & 1.0 & 0.0 & 1.0 & 1.0\\\\\\end{matrix}\\right)$"
      ],
      "text/plain": [
       "Quantum object: dims = [[6], [6]], shape = (6, 6), type = oper, isherm = False\n",
       "Qobj data =\n",
       "[[ 0. -1.  1.  1.  1.  1.]\n",
       " [ 1. -1.  1.  1.  1.  1.]\n",
       " [ 1.  1. -1.  1.  1.  1.]\n",
       " [ 0.  1. -1.  0.  0.  1.]\n",
       " [ 0.  1.  1.  1.  0.  1.]\n",
       " [ 1.  1.  1.  0.  1.  1.]]"
      ]
     },
     "execution_count": 34,
     "metadata": {},
     "output_type": "execute_result"
    }
   ],
   "source": [
    "qt.Qobj(cos3phi.transformation_matrix)"
   ]
  },
  {
   "cell_type": "code",
   "execution_count": 12,
   "id": "2f150135-4019-41cc-b724-dfaa04d77e6a",
   "metadata": {},
   "outputs": [
    {
     "name": "stderr",
     "output_type": "stream",
     "text": [
      "UserWarning: Number of extra periodic modes found: 1\n",
      "\n",
      " C:\\Users\\Zhenxing Liu\\AppData\\Roaming\\Python\\Python310\\site-packages\\scqubits\\core\\symbolic_circuit.py: 1007"
     ]
    },
    {
     "data": {
      "text/latex": [
       "$ \\left(1.337295 Q_{3}^{2} + 1.069474 Q_{2}^{2} + 6.64706 Q_{1}^{2} - 900719925474099.0 Q_{5}^{2} - 8.10647932926689 \\cdot 10^{15} Q_{4}^{2} + 0.89806 Q_{3} Q_{5} + 3.967355 Q_{1} Q_{2} + 6.395956 Q_{1} Q_{4} + 3.967375 Q_{2} Q_{4} - 0.374599 Q_{2} Q_{5} - 0.195018 Q_{3} Q_{4} - 0.914203 Q_{2} Q_{3} - 4.663383 Q_{1} Q_{3} - 2.343823 Q_{1} Q_{5} - 5.4043195528446 \\cdot 10^{15} Q_{4} Q_{5}\\right) + \\left(- Ej \\cos{\\left((2πΦ_{1}) + θ_{1} - 1.0 θ_{2} \\right)} - Ej \\cos{\\left(0.957983 θ_{3} + 1.436975 θ_{1} + 1.436975 θ_{5} - 0.478992 θ_{4} - 0.521008 θ_{6} \\right)} - Ej \\cos{\\left((2πΦ_{2}) + θ_{2} + 0.478992 θ_{4} + 0.521008 θ_{6} - 0.957983 θ_{3} - 0.436975 θ_{1} - 1.436975 θ_{5} \\right)} + 1.0 EL θ_{2}^{2} + 0.136608 EL θ_{4}^{2} + 0.678624 EL θ_{6}^{2} + 2.103418 EL θ_{1}^{2} + 1.229468 EL θ_{5}^{2} + 1.54643 EL θ_{3}^{2} + 0.12605 EL θ_{2} θ_{5} + 0.630464 EL θ_{3} θ_{6} + 0.945696 EL θ_{5} θ_{6} + 1.042017 EL θ_{2} θ_{6} + 2.332886 EL θ_{1} θ_{5} + 2.555257 EL θ_{1} θ_{3} + 1.639291 EL θ_{3} θ_{5} - 0.042017 EL θ_{2} θ_{4} - 0.915966 EL θ_{2} θ_{3} - 0.096321 EL θ_{1} θ_{6} - 0.87395 EL θ_{1} θ_{2} - 0.54643 EL θ_{3} θ_{4} - 0.315232 EL θ_{4} θ_{6} - 0.777629 EL θ_{1} θ_{4} - 0.819646 EL θ_{4} θ_{5}\\right) $"
      ],
      "text/plain": [
       "<IPython.core.display.Latex object>"
      ]
     },
     "metadata": {},
     "output_type": "display_data"
    },
    {
     "data": {
      "text/latex": [
       "$ φ_{1} = 0.521008403361345 θ_{6} + 0.0420168067226891 θ_{3} + 0.478991596638655 θ_{4} - 0.436974789915966 θ_{1} - 0.436974789915966 θ_{5} \\\\ φ_{2} = 1.0 θ_{1} + 1.0 θ_{3} + 1.0 θ_{5} + 9.9158386533999 \\cdot 10^{-17} θ_{6} - 9.9158386533999 \\cdot 10^{-17} θ_{4} \\\\ φ_{3} = 0.521008403361345 θ_{4} - 0.563025210084034 θ_{5} - 0.521008403361345 θ_{6} - 0.563025210084034 θ_{1} - 0.042016806722689 θ_{3} \\\\ φ_{4} = 0.521008403361344 θ_{4} + 0.436974789915966 θ_{1} - 1.0 θ_{2} - 0.0420168067226889 θ_{3} - 0.563025210084034 θ_{5} - 0.521008403361345 θ_{6} \\\\ φ_{5} = 1.0 θ_{5} \\\\ φ_{6} = 1.0 θ_{2} + 0.521008403361345 θ_{6} + 0.478991596638655 θ_{4} - 0.436974789915966 θ_{5} - 0.436974789915966 θ_{1} - 0.957983193277311 θ_{3} $"
      ],
      "text/plain": [
       "<IPython.core.display.Latex object>"
      ]
     },
     "metadata": {},
     "output_type": "display_data"
    },
    {
     "data": {
      "text/plain": [
       "{'periodic': [], 'extended': [1, 2, 3, 4, 5, 6], 'free': [], 'frozen': []}"
      ]
     },
     "execution_count": 12,
     "metadata": {},
     "output_type": "execute_result"
    }
   ],
   "source": [
    "# Cholesky transformation \n",
    "Ecj = 2.28\n",
    "Ec = 0.20\n",
    "\n",
    "transform = np.array([\n",
    "       [-0.5,  0.5, -0.5,  0.5, -0.5,  0.5 ],\n",
    "       [-0.5,  0.5,  0.5, -0.5, -0.5,  0.5 ],\n",
    "       [ 0.5,  0.5,  0.5, -0.5, -0.5, -0.5 ],\n",
    "       [ 0.5,  0.5,  0.5,  0.5,  0.5,  0.5 ],\n",
    "       [   0,    0,    0,    0,    1,   0  ],\n",
    "       [   1,    -Ec/(Ec+Ecj),    -Ecj/(Ec+Ecj),    0,    0,   0 ]])\n",
    "cos3phi = scq.Circuit(cos3phi_yaml, from_file=False, ext_basis=\"discretized\")\n",
    "cos3phi.configure(transformation_matrix=np.linalg.inv(transform))\n",
    "cos3phi.sym_hamiltonian()\n",
    "\n",
    "cos3phi.variable_transformation()\n",
    "\n",
    "cos3phi.var_categories"
   ]
  },
  {
   "cell_type": "code",
   "execution_count": null,
   "id": "485fc699-e43f-46fd-8274-f6f372280f18",
   "metadata": {},
   "outputs": [],
   "source": [
    "# Cholesky transformation \n",
    "Ecj = 2.28\n",
    "Ec = 0.20\n",
    "\n",
    "transform = np.array([\n",
    "    [   1,    -Ec/(Ec+Ecj),    -Ecj/(Ec+Ecj),    0,    0,   0 ],\n",
    "       [0,  1, 0,  0, 0,  0 ],\n",
    "       [0,  0, 1,  0, 0,  0 ],\n",
    "       [0,  0, 0,  1, 0,  0 ],\n",
    "       [0,  0, 0,  0, 1,  0 ],\n",
    "       [0,  0, 0,  0, 0,  1  ],\n",
    "       ])\n",
    "cos3phi = scq.Circuit(cos3phi_yaml, from_file=False, ext_basis=\"discretized\")\n",
    "cos3phi.configure(transformation_matrix=np.linalg.inv(transform))\n",
    "cos3phi.sym_hamiltonian()\n",
    "\n",
    "cos3phi.variable_transformation()\n",
    "\n",
    "cos3phi.var_categories"
   ]
  }
 ],
 "metadata": {
  "kernelspec": {
   "display_name": "Python 3 (ipykernel)",
   "language": "python",
   "name": "python3"
  },
  "language_info": {
   "codemirror_mode": {
    "name": "ipython",
    "version": 3
   },
   "file_extension": ".py",
   "mimetype": "text/x-python",
   "name": "python",
   "nbconvert_exporter": "python",
   "pygments_lexer": "ipython3",
   "version": "3.10.8"
  }
 },
 "nbformat": 4,
 "nbformat_minor": 5
}
